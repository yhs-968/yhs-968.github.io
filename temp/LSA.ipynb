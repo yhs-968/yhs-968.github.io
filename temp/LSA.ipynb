{
 "cells": [
  {
   "cell_type": "code",
   "execution_count": 16,
   "metadata": {
    "collapsed": false
   },
   "outputs": [
    {
     "name": "stdout",
     "output_type": "stream",
     "text": [
      "[[ 0  1  0  2  0]\n",
      " [13  2  0  9  6]\n",
      " [ 7  4  1  3  0]]\n",
      "[[-0.06472548  0.0522741  -0.99653301]\n",
      " [-0.90607213 -0.42152531  0.03673847]\n",
      " [-0.41814341  0.90530869  0.07464753]]\n",
      "[[ 18.69696421   0.           0.        ]\n",
      " [  0.           4.11216818   0.        ]\n",
      " [  0.           0.           1.87446046]]\n",
      "[[-0.78654167 -0.18984063 -0.02236424 -0.51016466 -0.29076553]\n",
      " [ 0.20848657  0.68831286  0.22015362 -0.23667648 -0.61504096]\n",
      " [ 0.53355769 -0.33314436  0.03982348 -0.76740867  0.11759693]\n",
      " [ 0.01552907 -0.39376279  0.87570346  0.1968814  -0.19771416]\n",
      " [-0.23013166  0.47344655  0.42730525 -0.23672327  0.69588799]]\n"
     ]
    }
   ],
   "source": [
    "from scipy.linalg import svd\n",
    "import numpy as np\n",
    "X = np.array([\n",
    "    [0,1,0,2,0],\n",
    "    [13,2,0,9,6],\n",
    "    [7,4,1,3,0]])\n",
    "U, s, Vh = svd(X)\n",
    "S = np.diag(s)\n",
    "\n",
    "print(X)\n",
    "print(U) # Left Singular Matrix\n",
    "print(S) # Singular Matrix\n",
    "print(Vh) # Right Singular Matrix"
   ]
  },
  {
   "cell_type": "code",
   "execution_count": 17,
   "metadata": {
    "collapsed": false
   },
   "outputs": [
    {
     "name": "stdout",
     "output_type": "stream",
     "text": [
      "(3, 5) (3, 3) (3, 3) (5, 5)\n"
     ]
    }
   ],
   "source": [
    "# Sparse SVD\n",
    "print(X.shape, U.shape,S.shape,Vh.shape)"
   ]
  },
  {
   "cell_type": "code",
   "execution_count": 18,
   "metadata": {
    "collapsed": false
   },
   "outputs": [],
   "source": [
    "from sklearn.decomposition import TruncatedSVD\n",
    "svd = TruncatedSVD(n_components=2,algorithm='arpack').fit(X)"
   ]
  },
  {
   "cell_type": "code",
   "execution_count": 19,
   "metadata": {
    "collapsed": false
   },
   "outputs": [
    {
     "data": {
      "text/plain": [
       "array([[ 0.78654167,  0.18984063,  0.02236424,  0.51016466,  0.29076553],\n",
       "       [ 0.20848657,  0.68831286,  0.22015362, -0.23667648, -0.61504096]])"
      ]
     },
     "execution_count": 19,
     "metadata": {},
     "output_type": "execute_result"
    }
   ],
   "source": [
    "svd.components_"
   ]
  }
 ],
 "metadata": {
  "kernelspec": {
   "display_name": "Python 3",
   "language": "python",
   "name": "python3"
  },
  "language_info": {
   "codemirror_mode": {
    "name": "ipython",
    "version": 3
   },
   "file_extension": ".py",
   "mimetype": "text/x-python",
   "name": "python",
   "nbconvert_exporter": "python",
   "pygments_lexer": "ipython3",
   "version": "3.6.0"
  }
 },
 "nbformat": 4,
 "nbformat_minor": 2
}
