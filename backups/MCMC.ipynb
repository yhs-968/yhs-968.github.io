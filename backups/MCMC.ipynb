{
 "cells": [
  {
   "cell_type": "markdown",
   "metadata": {},
   "source": [
    "## MCMC\n",
    "---"
   ]
  },
  {
   "cell_type": "markdown",
   "metadata": {},
   "source": [
    "### Cores\n",
    "- **WHAT** it is\n",
    "  - Method to sample from an *arbitrary* distribution using the properties of Markov Chain.\n",
    "- **WHEN** to use\n",
    "  - Approximating a *full* posterior distribution<sup>cf.Variational Bayes</sup>\n",
    "- **Rationale**\n",
    "  - Markov Chain : A stationary Markov Chain\n",
    "  - After some *burn-in*, the MC converges to the stationary distribution. Thus, long-run equilibrium time spent at each point($\\pi_i$) is approximately equal to the height(density) of the distribution.\n",
    "- **Pros** for MCMC\n",
    "  - Scalable w.r.t the dimensionality of the sample space.<sup>[1]</sup>\n",
    "- **Cons** for MCMC:?\n",
    "- **Remarks** on proposal width\n",
    "  - Choice of proposed distribution, and thus proposal width affects the performance. Often, Gaussian distribution with mean at the current position is chosen. In this case, variance of the proposed distribution works as the proposal width. Empirical optimization is commonly adopted for deciding the proposal width.\n",
    "- **Libraries**\n",
    "  - Python : PyMC\n",
    "  - R : ?\n",
    "---"
   ]
  },
  {
   "cell_type": "markdown",
   "metadata": {},
   "source": [
    "### Theories\n",
    "\n",
    "#### Notes on Markov Chains\n",
    "- Definition of 1st order MC<sup>[2]</sup>\n",
    "  - A sequence of random variables $\\{X_n,n\\ge0\\}$ is a **Discrete Time Markov Chain** on state space $S$ if\n",
    "    1. $\\forall n\\ge0,X_n\\in S$\n",
    "    2. $\\forall i,j,P[X_{n+1}=j|X_n=i,X_{n-1}=i_{n-1},...X_0=i_0]=P[X_{n+1}=j|X_n=i]=P_{ij}$\n",
    "  - A process $\\{X(t),t\\ge0\\}$ is a **Continuous Time Markov Chain** on state space $S$ if\n",
    "    $$\\begin{eqnarray}\n",
    "    &&\\forall s,t\\ge0,\\quad i,j,x(u)\\in S, \\quad 0\\le u < s\\notag\\\\\n",
    "    &&P[X(t+s)=j|X(s)=i,X(u)=x(u),0\\le u < s]=P[X(t+s)=j|X(s)=i]\\notag\\\\\n",
    "    \\end{eqnarray}$$\n",
    "- Desirable properties of a MC\n",
    "  - **Stationarity(Invarinace)**\n",
    "    - $\\pi_i=\\sum_j{P_{ji}\\pi_j}$ is the *long-run equilibrium time spent on each state.*\n",
    "  - (Time-)Reversible MC and detailed balance equation\n",
    "    - An MC that satisfies the detailed balance equation $\\pi_iP_{ij}=\\pi_jP_{ji}$ is reversible.\n",
    "    - **A reversible MC is stationary**\n",
    "  - Ergodicity : the MC converges to the stationary distribution as $n\\rightarrow\\infty$\n",
    "\n",
    "#### Metropolis-Hastings Algorithm\n",
    "- How it works : make the desired distribution $\\pi(.)$ to draw samples from as the stationary distribution of a reversible MC.\n",
    "- Logical flow(Rough): The detailed balance equation is satisfied -> MC is stationary -> Portion of times spent at each state(time) follows the proposed distribution.\n",
    "- Algorithm\n",
    "  1. Initialize $X_1$\n",
    "  2. Generate $X_{n+1}(n=1,2,...)$ by the following steps:\n",
    "    - Generate $X_{n+1}'=x_j$ from $P(X_{n+1}=x_j|X_n=x_i)=q_{ij}$, *any* reversible transition probability for MC. Often, it is $\\mathcal{N}(\\mu=x_i,\\sigma^2)$, where the proposal width $\\sigma$ is your choice..\n",
    "    - Define the *acceptance probability*: $a(i,j)=\\min{\\left(1,{\\pi(X_{n+1}')q(X_n|X_{n+1}')\\over\\pi(X_n)q(X_{n+1}'|X_n)}\\right)}=\\min{\\left(1,{\\pi_jq_{ji}\\over\\pi_iq_{ij}}\\right)}$\n",
    "    - Take $X_{n+1}\\begin{cases}X_{n+1}'\\text{ with }q_{ij}a(i,j)\\\\X_n\\text{ otherwise(stays at current state)}\\end{cases}$\n",
    "  3. Iterate step 1,2.\n",
    "  3. Result : $\\{X_n\\}$ is a MC with stationary distribution $\\pi_j$\n",
    "- Proof : Lecture Note & page 248 of [1]\n",
    "\n",
    "#### Gibbs-Sampling\n",
    "- Widely used version of Metropolis-Hastings Algorithm for multi-dimensional sampling.\n",
    "- Sequential sampling. Details on pg 250 of [1]\n",
    "\n",
    "---"
   ]
  },
  {
   "cell_type": "markdown",
   "metadata": {},
   "source": [
    "### Example Codes with dummy data"
   ]
  },
  {
   "cell_type": "code",
   "execution_count": 22,
   "metadata": {
    "collapsed": false
   },
   "outputs": [],
   "source": [
    "## Import necessary libraries\n",
    "%matplotlib inline\n",
    "import pymc as pm\n",
    "from IPython.core.pylabtools import figsize\n",
    "from matplotlib import pyplot as plt\n",
    "import daft"
   ]
  },
  {
   "cell_type": "code",
   "execution_count": 50,
   "metadata": {
    "collapsed": false
   },
   "outputs": [
    {
     "data": {
      "text/plain": [
       "<matplotlib.axes._axes.Axes at 0x7f89ffef38d0>"
      ]
     },
     "execution_count": 50,
     "metadata": {},
     "output_type": "execute_result"
    },
    {
     "data": {
      "image/png": "[encoded data removed]",
      "text/plain": [
       "<matplotlib.figure.Figure at 0x7f8a0016ced0>"
      ]
     },
     "metadata": {},
     "output_type": "display_data"
    }
   ],
   "source": [
    "# Visualize the model\n",
    "model = daft.PGM([3,3]) #[5,5] is the size of the PGM\n",
    "model.add_node(daft.Node(\"mu\",r\"$\\mu$\",1.5,2)) #2.5=x-coordinate, 1=y-coordinate\n",
    "model.add_node(daft.Node(\"x\",r\"$x|\\mu$\",1.5,1))\n",
    "model.add_edge(\"mu\",\"x\")\n",
    "model.render()"
   ]
  },
  {
   "cell_type": "code",
   "execution_count": 97,
   "metadata": {
    "collapsed": false
   },
   "outputs": [
    {
     "name": "stdout",
     "output_type": "stream",
     "text": [
      " [-----------------100%-----------------] 20000 of 20000 complete in 0.8 sec"
     ]
    }
   ],
   "source": [
    "# True mu(unknown)\n",
    "mu_true = 2\n",
    "# prior\n",
    "mu_prior = pm.Uniform(\"mu\",0,5)\n",
    "# generate the dummy data created from the true parameter\n",
    "population = pm.Normal(\"sample\",mu_true,4)\n",
    "samples = [population.random() for i in xrange(100)]\n",
    "# Integrate data into the prior\n",
    "data = pm.Normal(\"data\",mu_prior, value=samples, observed=True)\n",
    "# Construct an MCMC and sample from the posterior\n",
    "posteriorMC = pm.MCMC([mu_prior,data])\n",
    "posteriorMC.sample(20000,2000)"
   ]
  },
  {
   "cell_type": "code",
   "execution_count": 98,
   "metadata": {
    "collapsed": false
   },
   "outputs": [
    {
     "data": {
      "text/plain": [
       "<matplotlib.legend.Legend at 0x7f89feb38c10>"
      ]
     },
     "execution_count": 98,
     "metadata": {},
     "output_type": "execute_result"
    },
    {
     "data": {
      "image/png": "[encoded data removed]",
      "text/plain": [
       "<matplotlib.figure.Figure at 0x7f89fec60f50>"
      ]
     },
     "metadata": {},
     "output_type": "display_data"
    }
   ],
   "source": [
    "figsize(12,5)\n",
    "plt.hist(posteriorMC.trace(\"mu\")[:], bins=100, histtype=\"stepfilled\",alpha=0.5)\n",
    "plt.title(\"Samples from the posterior distribution $p(\\mu|\\mathbf{x})$\")\n",
    "plt.vlines(mu_true, 0, 1200, linestyle=\"--\", label=\"true $\\mu$ (unknown)\")\n",
    "plt.legend()"
   ]
  },
  {
   "cell_type": "markdown",
   "metadata": {},
   "source": [
    "Note that the probability is high near the true value $2$."
   ]
  },
  {
   "cell_type": "markdown",
   "metadata": {},
   "source": [
    "### Reference  \n",
    "[1] Sheldon M. Ross(11e). Introduction to Probability Models.  \n",
    "[2] Bishop(2006), Pattern Recognition and Machine Learning. Chapter 11.2 - Markov Chain Monte Carlo  "
   ]
  }
 ],
 "metadata": {
  "kernelspec": {
   "display_name": "Python 2",
   "language": "python",
   "name": "python2"
  },
  "language_info": {
   "codemirror_mode": {
    "name": "ipython",
    "version": 2
   },
   "file_extension": ".py",
   "mimetype": "text/x-python",
   "name": "python",
   "nbconvert_exporter": "python",
   "pygments_lexer": "ipython2",
   "version": "2.7.11"
  }
 },
 "nbformat": 4,
 "nbformat_minor": 0
}
